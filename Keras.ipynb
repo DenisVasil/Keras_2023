{
  "nbformat": 4,
  "nbformat_minor": 0,
  "metadata": {
    "colab": {
      "provenance": [],
      "gpuType": "T4",
      "authorship_tag": "ABX9TyMymohhGP9KDOjrLSA2pcC9",
      "include_colab_link": true
    },
    "kernelspec": {
      "name": "python3",
      "display_name": "Python 3"
    },
    "language_info": {
      "name": "python"
    },
    "accelerator": "GPU"
  },
  "cells": [
    {
      "cell_type": "markdown",
      "metadata": {
        "id": "view-in-github",
        "colab_type": "text"
      },
      "source": [
        "<a href=\"https://colab.research.google.com/github/DenisVasil/Keras_2023/blob/main/Keras.ipynb\" target=\"_parent\"><img src=\"https://colab.research.google.com/assets/colab-badge.svg\" alt=\"Open In Colab\"/></a>"
      ]
    },
    {
      "cell_type": "code",
      "execution_count": 4,
      "metadata": {
        "id": "pXVVGd1JNuuW"
      },
      "outputs": [],
      "source": [
        "import tensorflow as tf\n",
        "from tensorflow import keras"
      ]
    },
    {
      "cell_type": "code",
      "source": [
        "fashion_mnist = keras.datasets.fashion_mnist"
      ],
      "metadata": {
        "id": "oCp_HX8QIr6i"
      },
      "execution_count": 43,
      "outputs": []
    },
    {
      "cell_type": "code",
      "source": [
        "fashion_mnist.load_data()"
      ],
      "metadata": {
        "id": "Huf3g3mkHli4"
      },
      "execution_count": null,
      "outputs": []
    },
    {
      "cell_type": "code",
      "source": [
        "(X_train_full, y_train_full), (X_test, y_test) = (fashion_mnist.load_data())"
      ],
      "metadata": {
        "id": "JJNCSBmrIHHv"
      },
      "execution_count": 45,
      "outputs": []
    },
    {
      "cell_type": "code",
      "source": [
        "X_train_full.shape"
      ],
      "metadata": {
        "colab": {
          "base_uri": "https://localhost:8080/"
        },
        "id": "ENjTZvw6Ikt-",
        "outputId": "89178c97-f6c0-462e-c6df-d8c19f22339f"
      },
      "execution_count": 8,
      "outputs": [
        {
          "output_type": "execute_result",
          "data": {
            "text/plain": [
              "(60000, 28, 28)"
            ]
          },
          "metadata": {},
          "execution_count": 8
        }
      ]
    },
    {
      "cell_type": "code",
      "source": [
        "X_train_full.dtype"
      ],
      "metadata": {
        "colab": {
          "base_uri": "https://localhost:8080/"
        },
        "id": "Cc_CTvNiI2h2",
        "outputId": "f91e38ee-b4ab-4ab1-95a3-57cbf799585d"
      },
      "execution_count": 9,
      "outputs": [
        {
          "output_type": "execute_result",
          "data": {
            "text/plain": [
              "dtype('uint8')"
            ]
          },
          "metadata": {},
          "execution_count": 9
        }
      ]
    },
    {
      "cell_type": "code",
      "source": [
        "X_valid, X_train = X_train_full[:5000]/225.0, X_train_full[5000:]/255.0\n",
        "y_valid, y_train = y_train_full[:5000], y_train_full[5000:]"
      ],
      "metadata": {
        "id": "JB0WdytUpxRy"
      },
      "execution_count": 46,
      "outputs": []
    },
    {
      "cell_type": "code",
      "source": [
        "class_names = [\"T-shirt/top\", \"Trouser\", \"Pullover\", \"Dress\", \"Coat\",\n",
        "\"Sandal\", \"Shirt\", \"Sneaker\", \"Bag\", \"Ankle boot\"]"
      ],
      "metadata": {
        "id": "4n_w5-Xsqzbg"
      },
      "execution_count": 47,
      "outputs": []
    },
    {
      "cell_type": "code",
      "source": [
        "class_names[y_train[0]]"
      ],
      "metadata": {
        "colab": {
          "base_uri": "https://localhost:8080/",
          "height": 35
        },
        "id": "174FuhwNq-Nd",
        "outputId": "2c0d1d3e-38a6-4950-b8da-10a5d4a41cda"
      },
      "execution_count": 12,
      "outputs": [
        {
          "output_type": "execute_result",
          "data": {
            "text/plain": [
              "'Coat'"
            ],
            "application/vnd.google.colaboratory.intrinsic+json": {
              "type": "string"
            }
          },
          "metadata": {},
          "execution_count": 12
        }
      ]
    },
    {
      "cell_type": "code",
      "source": [
        "class_names[y_train[2]]"
      ],
      "metadata": {
        "id": "nO7oSpkQrA0_",
        "colab": {
          "base_uri": "https://localhost:8080/",
          "height": 35
        },
        "outputId": "35756566-822a-4b2c-b6ed-413251ed0086"
      },
      "execution_count": 13,
      "outputs": [
        {
          "output_type": "execute_result",
          "data": {
            "text/plain": [
              "'Sneaker'"
            ],
            "application/vnd.google.colaboratory.intrinsic+json": {
              "type": "string"
            }
          },
          "metadata": {},
          "execution_count": 13
        }
      ]
    },
    {
      "cell_type": "code",
      "source": [
        "import matplotlib.pyplot as plt\n",
        "\n",
        "plt.figure()\n",
        "plt.imshow(X_train[1])\n",
        "plt.colorbar()\n",
        "plt.grid(False)\n",
        "plt.show()"
      ],
      "metadata": {
        "colab": {
          "base_uri": "https://localhost:8080/",
          "height": 435
        },
        "id": "vC9YyQU-8Nj4",
        "outputId": "4a13368d-a018-4ab4-8e75-85a15527f553"
      },
      "execution_count": 14,
      "outputs": [
        {
          "output_type": "display_data",
          "data": {
            "text/plain": [
              "<Figure size 640x480 with 2 Axes>"
            ],
            "image/png": "[encoded data removed]"
          },
          "metadata": {}
        }
      ]
    },
    {
      "cell_type": "code",
      "source": [
        "model = keras.models.Sequential()\n",
        "model.add(keras.layers.Flatten(input_shape=[28, 28]))\n",
        "model.add(keras.layers.Dense(300, activation='relu'))\n",
        "model.add(keras.layers.Dense(100, activation='relu'))\n",
        "model.add(keras.layers.Dense(10, activation='softmax'))"
      ],
      "metadata": {
        "id": "Ey-qIWW76Zgm"
      },
      "execution_count": 48,
      "outputs": []
    },
    {
      "cell_type": "code",
      "source": [
        "model = keras.models.Sequential([\n",
        "    keras.layers.Flatten(input_shape=[28,28]),\n",
        "    keras.layers.Dense(300, activation='relu'),\n",
        "    keras.layers.Dense(100, activation='relu'),\n",
        "    keras.layers.Dense(10, activation='softmax'),\n",
        "])"
      ],
      "metadata": {
        "id": "-6o1vwcZ8yLu"
      },
      "execution_count": 49,
      "outputs": []
    },
    {
      "cell_type": "code",
      "source": [
        "model.summary()"
      ],
      "metadata": {
        "colab": {
          "base_uri": "https://localhost:8080/"
        },
        "id": "8AhX1CzY9mbE",
        "outputId": "ceacb66d-371e-4b03-e173-3111187d633a"
      },
      "execution_count": 17,
      "outputs": [
        {
          "output_type": "stream",
          "name": "stdout",
          "text": [
            "Model: \"sequential_1\"\n",
            "_________________________________________________________________\n",
            " Layer (type)                Output Shape              Param #   \n",
            "=================================================================\n",
            " flatten_1 (Flatten)         (None, 784)               0         \n",
            "                                                                 \n",
            " dense_3 (Dense)             (None, 300)               235500    \n",
            "                                                                 \n",
            " dense_4 (Dense)             (None, 100)               30100     \n",
            "                                                                 \n",
            " dense_5 (Dense)             (None, 10)                1010      \n",
            "                                                                 \n",
            "=================================================================\n",
            "Total params: 266,610\n",
            "Trainable params: 266,610\n",
            "Non-trainable params: 0\n",
            "_________________________________________________________________\n"
          ]
        }
      ]
    },
    {
      "cell_type": "code",
      "source": [
        "model.layers"
      ],
      "metadata": {
        "colab": {
          "base_uri": "https://localhost:8080/"
        },
        "id": "UyCzLG4a9rDz",
        "outputId": "5bf4b2e1-e778-4adc-c3b8-7d1a412a9049"
      },
      "execution_count": 18,
      "outputs": [
        {
          "output_type": "execute_result",
          "data": {
            "text/plain": [
              "[<keras.layers.reshaping.flatten.Flatten at 0x7f4fce385fc0>,\n",
              " <keras.layers.core.dense.Dense at 0x7f4faf13fd60>,\n",
              " <keras.layers.core.dense.Dense at 0x7f4faf13f370>,\n",
              " <keras.layers.core.dense.Dense at 0x7f4faf13f250>]"
            ]
          },
          "metadata": {},
          "execution_count": 18
        }
      ]
    },
    {
      "cell_type": "code",
      "source": [
        "model.compile(loss='sparse_categorical_crossentropy',\n",
        "              optimizer='SGD',\n",
        "              metrics='accuracy')"
      ],
      "metadata": {
        "id": "swDOCBgQ9yln"
      },
      "execution_count": 50,
      "outputs": []
    },
    {
      "cell_type": "code",
      "source": [
        "history= model.fit(X_train, y_train, epochs=30,\n",
        "                   validation_data=(X_valid, y_valid))"
      ],
      "metadata": {
        "colab": {
          "base_uri": "https://localhost:8080/"
        },
        "id": "TeYCWX7h-kvK",
        "outputId": "05d60ee6-0592-4e60-ab04-44d1c83c253a"
      },
      "execution_count": 20,
      "outputs": [
        {
          "output_type": "stream",
          "name": "stdout",
          "text": [
            "Epoch 1/30\n",
            "1719/1719 [==============================] - 11s 3ms/step - loss: 0.7213 - accuracy: 0.7657 - val_loss: 0.5022 - val_accuracy: 0.8312\n",
            "Epoch 2/30\n",
            "1719/1719 [==============================] - 6s 3ms/step - loss: 0.4858 - accuracy: 0.8338 - val_loss: 0.4554 - val_accuracy: 0.8428\n",
            "Epoch 3/30\n",
            "1719/1719 [==============================] - 6s 3ms/step - loss: 0.4418 - accuracy: 0.8465 - val_loss: 0.4406 - val_accuracy: 0.8520\n",
            "Epoch 4/30\n",
            "1719/1719 [==============================] - 5s 3ms/step - loss: 0.4143 - accuracy: 0.8549 - val_loss: 0.3934 - val_accuracy: 0.8678\n",
            "Epoch 5/30\n",
            "1719/1719 [==============================] - 6s 3ms/step - loss: 0.3955 - accuracy: 0.8608 - val_loss: 0.3820 - val_accuracy: 0.8718\n",
            "Epoch 6/30\n",
            "1719/1719 [==============================] - 5s 3ms/step - loss: 0.3787 - accuracy: 0.8678 - val_loss: 0.3727 - val_accuracy: 0.8716\n",
            "Epoch 7/30\n",
            "1719/1719 [==============================] - 6s 4ms/step - loss: 0.3659 - accuracy: 0.8707 - val_loss: 0.3742 - val_accuracy: 0.8688\n",
            "Epoch 8/30\n",
            "1719/1719 [==============================] - 5s 3ms/step - loss: 0.3541 - accuracy: 0.8749 - val_loss: 0.3901 - val_accuracy: 0.8682\n",
            "Epoch 9/30\n",
            "1719/1719 [==============================] - 6s 3ms/step - loss: 0.3451 - accuracy: 0.8783 - val_loss: 0.3570 - val_accuracy: 0.8764\n",
            "Epoch 10/30\n",
            "1719/1719 [==============================] - 5s 3ms/step - loss: 0.3353 - accuracy: 0.8811 - val_loss: 0.3633 - val_accuracy: 0.8732\n",
            "Epoch 11/30\n",
            "1719/1719 [==============================] - 6s 3ms/step - loss: 0.3264 - accuracy: 0.8838 - val_loss: 0.3499 - val_accuracy: 0.8754\n",
            "Epoch 12/30\n",
            "1719/1719 [==============================] - 5s 3ms/step - loss: 0.3192 - accuracy: 0.8855 - val_loss: 0.3343 - val_accuracy: 0.8834\n",
            "Epoch 13/30\n",
            "1719/1719 [==============================] - 6s 3ms/step - loss: 0.3113 - accuracy: 0.8882 - val_loss: 0.3339 - val_accuracy: 0.8840\n",
            "Epoch 14/30\n",
            "1719/1719 [==============================] - 6s 3ms/step - loss: 0.3049 - accuracy: 0.8902 - val_loss: 0.3381 - val_accuracy: 0.8832\n",
            "Epoch 15/30\n",
            "1719/1719 [==============================] - 6s 3ms/step - loss: 0.2980 - accuracy: 0.8934 - val_loss: 0.3194 - val_accuracy: 0.8880\n",
            "Epoch 16/30\n",
            "1719/1719 [==============================] - 6s 3ms/step - loss: 0.2921 - accuracy: 0.8956 - val_loss: 0.3305 - val_accuracy: 0.8878\n",
            "Epoch 17/30\n",
            "1719/1719 [==============================] - 5s 3ms/step - loss: 0.2853 - accuracy: 0.8970 - val_loss: 0.3243 - val_accuracy: 0.8862\n",
            "Epoch 18/30\n",
            "1719/1719 [==============================] - 6s 4ms/step - loss: 0.2812 - accuracy: 0.8985 - val_loss: 0.3419 - val_accuracy: 0.8800\n",
            "Epoch 19/30\n",
            "1719/1719 [==============================] - 5s 3ms/step - loss: 0.2753 - accuracy: 0.9006 - val_loss: 0.3243 - val_accuracy: 0.8872\n",
            "Epoch 20/30\n",
            "1719/1719 [==============================] - 6s 3ms/step - loss: 0.2698 - accuracy: 0.9032 - val_loss: 0.3313 - val_accuracy: 0.8844\n",
            "Epoch 21/30\n",
            "1719/1719 [==============================] - 5s 3ms/step - loss: 0.2643 - accuracy: 0.9035 - val_loss: 0.3233 - val_accuracy: 0.8846\n",
            "Epoch 22/30\n",
            "1719/1719 [==============================] - 6s 4ms/step - loss: 0.2605 - accuracy: 0.9059 - val_loss: 0.3473 - val_accuracy: 0.8766\n",
            "Epoch 23/30\n",
            "1719/1719 [==============================] - 5s 3ms/step - loss: 0.2559 - accuracy: 0.9083 - val_loss: 0.3191 - val_accuracy: 0.8852\n",
            "Epoch 24/30\n",
            "1719/1719 [==============================] - 6s 4ms/step - loss: 0.2513 - accuracy: 0.9088 - val_loss: 0.3268 - val_accuracy: 0.8850\n",
            "Epoch 25/30\n",
            "1719/1719 [==============================] - 5s 3ms/step - loss: 0.2478 - accuracy: 0.9102 - val_loss: 0.3163 - val_accuracy: 0.8852\n",
            "Epoch 26/30\n",
            "1719/1719 [==============================] - 6s 3ms/step - loss: 0.2442 - accuracy: 0.9112 - val_loss: 0.3157 - val_accuracy: 0.8886\n",
            "Epoch 27/30\n",
            "1719/1719 [==============================] - 6s 3ms/step - loss: 0.2394 - accuracy: 0.9131 - val_loss: 0.3422 - val_accuracy: 0.8818\n",
            "Epoch 28/30\n",
            "1719/1719 [==============================] - 5s 3ms/step - loss: 0.2351 - accuracy: 0.9145 - val_loss: 0.3097 - val_accuracy: 0.8884\n",
            "Epoch 29/30\n",
            "1719/1719 [==============================] - 6s 3ms/step - loss: 0.2315 - accuracy: 0.9171 - val_loss: 0.2975 - val_accuracy: 0.8918\n",
            "Epoch 30/30\n",
            "1719/1719 [==============================] - 5s 3ms/step - loss: 0.2272 - accuracy: 0.9187 - val_loss: 0.3126 - val_accuracy: 0.8932\n"
          ]
        }
      ]
    },
    {
      "cell_type": "code",
      "source": [
        "early_stopping_cb = keras.callbacks.EarlyStopping(patience=10)\n",
        "history= model.fit(X_train, y_train, epochs=300,\n",
        "                   validation_data=(X_valid, y_valid),\n",
        "                    callbacks=[early_stopping_cb])"
      ],
      "metadata": {
        "colab": {
          "base_uri": "https://localhost:8080/"
        },
        "id": "Wd5ZbiLUe143",
        "outputId": "5c426cee-0e8f-458f-a038-1508d31108dd"
      },
      "execution_count": 51,
      "outputs": [
        {
          "output_type": "stream",
          "name": "stdout",
          "text": [
            "Epoch 1/300\n",
            "1719/1719 [==============================] - 6s 3ms/step - loss: 0.7160 - accuracy: 0.7644 - val_loss: 0.5023 - val_accuracy: 0.8246\n",
            "Epoch 2/300\n",
            "1719/1719 [==============================] - 6s 3ms/step - loss: 0.4864 - accuracy: 0.8318 - val_loss: 0.4516 - val_accuracy: 0.8432\n",
            "Epoch 3/300\n",
            "1719/1719 [==============================] - 5s 3ms/step - loss: 0.4422 - accuracy: 0.8448 - val_loss: 0.4917 - val_accuracy: 0.8394\n",
            "Epoch 4/300\n",
            "1719/1719 [==============================] - 6s 3ms/step - loss: 0.4132 - accuracy: 0.8550 - val_loss: 0.4180 - val_accuracy: 0.8574\n",
            "Epoch 5/300\n",
            "1719/1719 [==============================] - 5s 3ms/step - loss: 0.3945 - accuracy: 0.8603 - val_loss: 0.3996 - val_accuracy: 0.8618\n",
            "Epoch 6/300\n",
            "1719/1719 [==============================] - 6s 3ms/step - loss: 0.3785 - accuracy: 0.8655 - val_loss: 0.3817 - val_accuracy: 0.8656\n",
            "Epoch 7/300\n",
            "1719/1719 [==============================] - 5s 3ms/step - loss: 0.3650 - accuracy: 0.8703 - val_loss: 0.3739 - val_accuracy: 0.8730\n",
            "Epoch 8/300\n",
            "1719/1719 [==============================] - 6s 3ms/step - loss: 0.3524 - accuracy: 0.8754 - val_loss: 0.3437 - val_accuracy: 0.8786\n",
            "Epoch 9/300\n",
            "1719/1719 [==============================] - 5s 3ms/step - loss: 0.3422 - accuracy: 0.8779 - val_loss: 0.3537 - val_accuracy: 0.8766\n",
            "Epoch 10/300\n",
            "1719/1719 [==============================] - 5s 3ms/step - loss: 0.3333 - accuracy: 0.8811 - val_loss: 0.3470 - val_accuracy: 0.8776\n",
            "Epoch 11/300\n",
            "1719/1719 [==============================] - 6s 3ms/step - loss: 0.3247 - accuracy: 0.8838 - val_loss: 0.3488 - val_accuracy: 0.8752\n",
            "Epoch 12/300\n",
            "1719/1719 [==============================] - 6s 3ms/step - loss: 0.3171 - accuracy: 0.8862 - val_loss: 0.3306 - val_accuracy: 0.8818\n",
            "Epoch 13/300\n",
            "1719/1719 [==============================] - 6s 3ms/step - loss: 0.3107 - accuracy: 0.8876 - val_loss: 0.3279 - val_accuracy: 0.8808\n",
            "Epoch 14/300\n",
            "1719/1719 [==============================] - 5s 3ms/step - loss: 0.3029 - accuracy: 0.8924 - val_loss: 0.3380 - val_accuracy: 0.8816\n",
            "Epoch 15/300\n",
            "1719/1719 [==============================] - 6s 4ms/step - loss: 0.2971 - accuracy: 0.8925 - val_loss: 0.3198 - val_accuracy: 0.8838\n",
            "Epoch 16/300\n",
            "1719/1719 [==============================] - 5s 3ms/step - loss: 0.2908 - accuracy: 0.8941 - val_loss: 0.3398 - val_accuracy: 0.8798\n",
            "Epoch 17/300\n",
            "1719/1719 [==============================] - 6s 4ms/step - loss: 0.2843 - accuracy: 0.8972 - val_loss: 0.3183 - val_accuracy: 0.8880\n",
            "Epoch 18/300\n",
            "1719/1719 [==============================] - 5s 3ms/step - loss: 0.2802 - accuracy: 0.8984 - val_loss: 0.3184 - val_accuracy: 0.8858\n",
            "Epoch 19/300\n",
            "1719/1719 [==============================] - 6s 4ms/step - loss: 0.2744 - accuracy: 0.9011 - val_loss: 0.3213 - val_accuracy: 0.8834\n",
            "Epoch 20/300\n",
            "1719/1719 [==============================] - 5s 3ms/step - loss: 0.2712 - accuracy: 0.9019 - val_loss: 0.3222 - val_accuracy: 0.8852\n",
            "Epoch 21/300\n",
            "1719/1719 [==============================] - 6s 3ms/step - loss: 0.2645 - accuracy: 0.9040 - val_loss: 0.3041 - val_accuracy: 0.8874\n",
            "Epoch 22/300\n",
            "1719/1719 [==============================] - 6s 3ms/step - loss: 0.2591 - accuracy: 0.9061 - val_loss: 0.3152 - val_accuracy: 0.8850\n",
            "Epoch 23/300\n",
            "1719/1719 [==============================] - 5s 3ms/step - loss: 0.2559 - accuracy: 0.9074 - val_loss: 0.3495 - val_accuracy: 0.8748\n",
            "Epoch 24/300\n",
            "1719/1719 [==============================] - 6s 3ms/step - loss: 0.2507 - accuracy: 0.9097 - val_loss: 0.3004 - val_accuracy: 0.8926\n",
            "Epoch 25/300\n",
            "1719/1719 [==============================] - 5s 3ms/step - loss: 0.2476 - accuracy: 0.9103 - val_loss: 0.3005 - val_accuracy: 0.8954\n",
            "Epoch 26/300\n",
            "1719/1719 [==============================] - 6s 4ms/step - loss: 0.2429 - accuracy: 0.9119 - val_loss: 0.3053 - val_accuracy: 0.8914\n",
            "Epoch 27/300\n",
            "1719/1719 [==============================] - 5s 3ms/step - loss: 0.2393 - accuracy: 0.9139 - val_loss: 0.3337 - val_accuracy: 0.8858\n",
            "Epoch 28/300\n",
            "1719/1719 [==============================] - 6s 4ms/step - loss: 0.2355 - accuracy: 0.9158 - val_loss: 0.3269 - val_accuracy: 0.8862\n",
            "Epoch 29/300\n",
            "1719/1719 [==============================] - 5s 3ms/step - loss: 0.2323 - accuracy: 0.9161 - val_loss: 0.2993 - val_accuracy: 0.8928\n",
            "Epoch 30/300\n",
            "1719/1719 [==============================] - 6s 4ms/step - loss: 0.2287 - accuracy: 0.9170 - val_loss: 0.2955 - val_accuracy: 0.8912\n",
            "Epoch 31/300\n",
            "1719/1719 [==============================] - 5s 3ms/step - loss: 0.2250 - accuracy: 0.9195 - val_loss: 0.2981 - val_accuracy: 0.8958\n",
            "Epoch 32/300\n",
            "1719/1719 [==============================] - 6s 4ms/step - loss: 0.2216 - accuracy: 0.9202 - val_loss: 0.3231 - val_accuracy: 0.8900\n",
            "Epoch 33/300\n",
            "1719/1719 [==============================] - 5s 3ms/step - loss: 0.2178 - accuracy: 0.9220 - val_loss: 0.3022 - val_accuracy: 0.8922\n",
            "Epoch 34/300\n",
            "1719/1719 [==============================] - 5s 3ms/step - loss: 0.2142 - accuracy: 0.9219 - val_loss: 0.2990 - val_accuracy: 0.8904\n",
            "Epoch 35/300\n",
            "1719/1719 [==============================] - 6s 3ms/step - loss: 0.2116 - accuracy: 0.9230 - val_loss: 0.3010 - val_accuracy: 0.8924\n",
            "Epoch 36/300\n",
            "1719/1719 [==============================] - 5s 3ms/step - loss: 0.2078 - accuracy: 0.9251 - val_loss: 0.3044 - val_accuracy: 0.8904\n",
            "Epoch 37/300\n",
            "1719/1719 [==============================] - 6s 4ms/step - loss: 0.2041 - accuracy: 0.9262 - val_loss: 0.2954 - val_accuracy: 0.8958\n",
            "Epoch 38/300\n",
            "1719/1719 [==============================] - 5s 3ms/step - loss: 0.2018 - accuracy: 0.9268 - val_loss: 0.2921 - val_accuracy: 0.8954\n",
            "Epoch 39/300\n",
            "1719/1719 [==============================] - 6s 3ms/step - loss: 0.1988 - accuracy: 0.9289 - val_loss: 0.3085 - val_accuracy: 0.8868\n",
            "Epoch 40/300\n",
            "1719/1719 [==============================] - 5s 3ms/step - loss: 0.1957 - accuracy: 0.9297 - val_loss: 0.3059 - val_accuracy: 0.8902\n",
            "Epoch 41/300\n",
            "1719/1719 [==============================] - 6s 3ms/step - loss: 0.1930 - accuracy: 0.9300 - val_loss: 0.3096 - val_accuracy: 0.8914\n",
            "Epoch 42/300\n",
            "1719/1719 [==============================] - 5s 3ms/step - loss: 0.1894 - accuracy: 0.9310 - val_loss: 0.3074 - val_accuracy: 0.8906\n",
            "Epoch 43/300\n",
            "1719/1719 [==============================] - 6s 4ms/step - loss: 0.1862 - accuracy: 0.9327 - val_loss: 0.3637 - val_accuracy: 0.8808\n",
            "Epoch 44/300\n",
            "1719/1719 [==============================] - 5s 3ms/step - loss: 0.1837 - accuracy: 0.9334 - val_loss: 0.3008 - val_accuracy: 0.8966\n",
            "Epoch 45/300\n",
            "1719/1719 [==============================] - 6s 3ms/step - loss: 0.1811 - accuracy: 0.9338 - val_loss: 0.3086 - val_accuracy: 0.8914\n",
            "Epoch 46/300\n",
            "1719/1719 [==============================] - 6s 3ms/step - loss: 0.1778 - accuracy: 0.9359 - val_loss: 0.3275 - val_accuracy: 0.8926\n",
            "Epoch 47/300\n",
            "1719/1719 [==============================] - 6s 3ms/step - loss: 0.1750 - accuracy: 0.9369 - val_loss: 0.2958 - val_accuracy: 0.8976\n",
            "Epoch 48/300\n",
            "1719/1719 [==============================] - 6s 3ms/step - loss: 0.1731 - accuracy: 0.9375 - val_loss: 0.3050 - val_accuracy: 0.8928\n"
          ]
        }
      ]
    },
    {
      "cell_type": "code",
      "source": [
        "import pandas as pd\n",
        "import matplotlib.pyplot as plt\n",
        "pd.DataFrame(history.history).plot(figsize=(8, 5))\n",
        "plt.grid(True)\n",
        "plt.gca().set_ylim(0, 1) # set the vertical range to [0-1]\n",
        "plt.show()"
      ],
      "metadata": {
        "colab": {
          "base_uri": "https://localhost:8080/",
          "height": 451
        },
        "id": "3Pi897WkCOzH",
        "outputId": "26874eb5-ca23-4d28-bfca-d870b80e5de3"
      },
      "execution_count": 52,
      "outputs": [
        {
          "output_type": "display_data",
          "data": {
            "text/plain": [
              "<Figure size 800x500 with 1 Axes>"
            ],
            "image/png": "[encoded data removed]"
          },
          "metadata": {}
        }
      ]
    },
    {
      "cell_type": "code",
      "source": [
        "model.evaluate(X_test, y_test)"
      ],
      "metadata": {
        "colab": {
          "base_uri": "https://localhost:8080/"
        },
        "id": "TPh1d55ICn4D",
        "outputId": "ecdd127d-29f6-46d7-c634-314af96e5198"
      },
      "execution_count": 22,
      "outputs": [
        {
          "output_type": "stream",
          "name": "stdout",
          "text": [
            "313/313 [==============================] - 1s 2ms/step - loss: 70.8119 - accuracy: 0.8461\n"
          ]
        },
        {
          "output_type": "execute_result",
          "data": {
            "text/plain": [
              "[70.81190490722656, 0.8460999727249146]"
            ]
          },
          "metadata": {},
          "execution_count": 22
        }
      ]
    },
    {
      "cell_type": "code",
      "source": [
        "X_new = X_test[:3]\n",
        "y_proba = model.predict(X_new)\n",
        "y_proba.round(2)"
      ],
      "metadata": {
        "colab": {
          "base_uri": "https://localhost:8080/"
        },
        "id": "zyhBpEeXDXEC",
        "outputId": "01632de2-331a-4418-de93-a084f46c9e03"
      },
      "execution_count": 23,
      "outputs": [
        {
          "output_type": "stream",
          "name": "stdout",
          "text": [
            "1/1 [==============================] - 0s 79ms/step\n"
          ]
        },
        {
          "output_type": "execute_result",
          "data": {
            "text/plain": [
              "array([[0., 0., 0., 0., 0., 0., 0., 0., 0., 1.],\n",
              "       [0., 0., 1., 0., 0., 0., 0., 0., 0., 0.],\n",
              "       [0., 1., 0., 0., 0., 0., 0., 0., 0., 0.]], dtype=float32)"
            ]
          },
          "metadata": {},
          "execution_count": 23
        }
      ]
    },
    {
      "cell_type": "code",
      "source": [
        "import  numpy as np\n",
        "y_pred = np.argmax(model.predict(X_new), axis=-1)\n",
        "y_pred"
      ],
      "metadata": {
        "colab": {
          "base_uri": "https://localhost:8080/"
        },
        "id": "OPwheg0dD8ZB",
        "outputId": "a1102403-1b02-46c9-f0ca-da916ae587c0"
      },
      "execution_count": 24,
      "outputs": [
        {
          "output_type": "stream",
          "name": "stdout",
          "text": [
            "1/1 [==============================] - 0s 18ms/step\n"
          ]
        },
        {
          "output_type": "execute_result",
          "data": {
            "text/plain": [
              "array([9, 2, 1])"
            ]
          },
          "metadata": {},
          "execution_count": 24
        }
      ]
    },
    {
      "cell_type": "code",
      "source": [
        "np.array(class_names)[y_pred]"
      ],
      "metadata": {
        "colab": {
          "base_uri": "https://localhost:8080/"
        },
        "id": "vQMIc99vFIN4",
        "outputId": "74f9ef1f-dc97-4dad-ecbb-deaf5ab47fc7"
      },
      "execution_count": 25,
      "outputs": [
        {
          "output_type": "execute_result",
          "data": {
            "text/plain": [
              "array(['Ankle boot', 'Pullover', 'Trouser'], dtype='<U11')"
            ]
          },
          "metadata": {},
          "execution_count": 25
        }
      ]
    },
    {
      "cell_type": "code",
      "source": [
        "y_new = y_test[:3]\n",
        "y_new"
      ],
      "metadata": {
        "colab": {
          "base_uri": "https://localhost:8080/"
        },
        "id": "asu1KVC_FXMX",
        "outputId": "a2e6613f-22ef-441c-f130-f6b96b7b8d76"
      },
      "execution_count": 26,
      "outputs": [
        {
          "output_type": "execute_result",
          "data": {
            "text/plain": [
              "array([9, 2, 1], dtype=uint8)"
            ]
          },
          "metadata": {},
          "execution_count": 26
        }
      ]
    },
    {
      "cell_type": "code",
      "source": [
        "from sklearn.datasets import fetch_california_housing\n",
        "from sklearn.model_selection import train_test_split\n",
        "from sklearn.preprocessing import StandardScaler\n",
        "\n",
        "housing = fetch_california_housing()\n",
        "\n",
        "X_train_full, X_test, y_train_full, y_test = train_test_split(housing.data, housing.target)\n",
        "X_train, X_valid, y_train, y_valid = train_test_split(X_train_full, y_train_full)\n",
        "\n",
        "scaler = StandardScaler()\n",
        "X_train = scaler.fit_transform(X_train)\n",
        "X_valid = scaler.transform(X_valid)\n",
        "X_test = scaler.transform(X_test)\n",
        "\n",
        "print(X_train.shape)\n",
        "print(X_train.shape[1:])"
      ],
      "metadata": {
        "colab": {
          "base_uri": "https://localhost:8080/"
        },
        "id": "wZU1qxLXSyFs",
        "outputId": "1facc929-4c28-4fba-ad59-6bc7601f36ab"
      },
      "execution_count": 27,
      "outputs": [
        {
          "output_type": "stream",
          "name": "stdout",
          "text": [
            "(11610, 8)\n",
            "(8,)\n"
          ]
        }
      ]
    },
    {
      "cell_type": "code",
      "source": [
        "import tensorflow as tf\n",
        "from tensorflow import keras\n",
        "\n",
        "model = keras.models.Sequential([\n",
        "    keras.layers.Dense(30, activation=\"relu\",\n",
        "                       input_shape = X_train.shape[1:]),\n",
        "    keras.layers.Dense(1)\n",
        "    ])"
      ],
      "metadata": {
        "id": "ouDf2OnAVdC2"
      },
      "execution_count": 28,
      "outputs": []
    },
    {
      "cell_type": "code",
      "source": [
        "model.compile(loss=\"mean_squared_error\", optimizer=\"sgd\")"
      ],
      "metadata": {
        "id": "fzUS61EHZ4xy"
      },
      "execution_count": 29,
      "outputs": []
    },
    {
      "cell_type": "code",
      "source": [
        "history = model.fit(X_train, y_train, epochs=20,\n",
        "                    validation_data=(X_valid, y_valid))"
      ],
      "metadata": {
        "colab": {
          "base_uri": "https://localhost:8080/"
        },
        "id": "R__0rmW1aL3n",
        "outputId": "16c375c8-51d5-4d17-9c69-f5f6706cf6d1"
      },
      "execution_count": 30,
      "outputs": [
        {
          "output_type": "stream",
          "name": "stdout",
          "text": [
            "Epoch 1/20\n",
            "363/363 [==============================] - 2s 4ms/step - loss: 0.7696 - val_loss: 0.5134\n",
            "Epoch 2/20\n",
            "363/363 [==============================] - 1s 3ms/step - loss: 0.7086 - val_loss: 0.4755\n",
            "Epoch 3/20\n",
            "363/363 [==============================] - 2s 4ms/step - loss: 0.4828 - val_loss: 0.4427\n",
            "Epoch 4/20\n",
            "363/363 [==============================] - 2s 5ms/step - loss: 0.4563 - val_loss: 0.4228\n",
            "Epoch 5/20\n",
            "363/363 [==============================] - 1s 3ms/step - loss: 0.3954 - val_loss: 0.4008\n",
            "Epoch 6/20\n",
            "363/363 [==============================] - 1s 3ms/step - loss: 0.3847 - val_loss: 0.3933\n",
            "Epoch 7/20\n",
            "363/363 [==============================] - 1s 3ms/step - loss: 0.3792 - val_loss: 0.3889\n",
            "Epoch 8/20\n",
            "363/363 [==============================] - 1s 3ms/step - loss: 0.3743 - val_loss: 0.3965\n",
            "Epoch 9/20\n",
            "363/363 [==============================] - 1s 3ms/step - loss: 0.3707 - val_loss: 0.3854\n",
            "Epoch 10/20\n",
            "363/363 [==============================] - 1s 3ms/step - loss: 0.3691 - val_loss: 0.3823\n",
            "Epoch 11/20\n",
            "363/363 [==============================] - 1s 3ms/step - loss: 0.3657 - val_loss: 0.3813\n",
            "Epoch 12/20\n",
            "363/363 [==============================] - 1s 3ms/step - loss: 0.3642 - val_loss: 0.3787\n",
            "Epoch 13/20\n",
            "363/363 [==============================] - 2s 5ms/step - loss: 0.3608 - val_loss: 0.3773\n",
            "Epoch 14/20\n",
            "363/363 [==============================] - 1s 4ms/step - loss: 0.3596 - val_loss: 0.3731\n",
            "Epoch 15/20\n",
            "363/363 [==============================] - 1s 3ms/step - loss: 0.3568 - val_loss: 0.3792\n",
            "Epoch 16/20\n",
            "363/363 [==============================] - 1s 3ms/step - loss: 0.3582 - val_loss: 0.3717\n",
            "Epoch 17/20\n",
            "363/363 [==============================] - 1s 3ms/step - loss: 0.3532 - val_loss: 0.3734\n",
            "Epoch 18/20\n",
            "363/363 [==============================] - 1s 3ms/step - loss: 0.3512 - val_loss: 0.3755\n",
            "Epoch 19/20\n",
            "363/363 [==============================] - 1s 3ms/step - loss: 0.3560 - val_loss: 0.3633\n",
            "Epoch 20/20\n",
            "363/363 [==============================] - 1s 3ms/step - loss: 0.3480 - val_loss: 0.3665\n"
          ]
        }
      ]
    },
    {
      "cell_type": "code",
      "source": [
        "early_stopping_cb = keras.callbacks.EarlyStopping(patience=10)\n",
        "history = model.fit(X_train, y_train, epochs=100,\n",
        "                    validation_data=(X_valid, y_valid),\n",
        "                    callbacks=[early_stopping_cb])"
      ],
      "metadata": {
        "colab": {
          "base_uri": "https://localhost:8080/"
        },
        "id": "YlJqeP-qd0jZ",
        "outputId": "99ad3dba-ef87-474d-c847-902bb2144013"
      },
      "execution_count": 39,
      "outputs": [
        {
          "output_type": "stream",
          "name": "stdout",
          "text": [
            "Epoch 1/100\n",
            "363/363 [==============================] - 1s 3ms/step - loss: 0.3464 - val_loss: 0.3693\n",
            "Epoch 2/100\n",
            "363/363 [==============================] - 1s 3ms/step - loss: 0.3478 - val_loss: 0.3609\n",
            "Epoch 3/100\n",
            "363/363 [==============================] - 1s 3ms/step - loss: 0.3460 - val_loss: 0.3590\n",
            "Epoch 4/100\n",
            "363/363 [==============================] - 1s 3ms/step - loss: 0.3424 - val_loss: 0.3587\n",
            "Epoch 5/100\n",
            "363/363 [==============================] - 1s 4ms/step - loss: 0.3403 - val_loss: 0.3601\n",
            "Epoch 6/100\n",
            "363/363 [==============================] - 2s 5ms/step - loss: 0.3408 - val_loss: 0.3561\n",
            "Epoch 7/100\n",
            "363/363 [==============================] - 1s 3ms/step - loss: 0.3404 - val_loss: 0.3578\n",
            "Epoch 8/100\n",
            "363/363 [==============================] - 1s 3ms/step - loss: 0.3368 - val_loss: 0.4381\n",
            "Epoch 9/100\n",
            "363/363 [==============================] - 1s 3ms/step - loss: 0.4654 - val_loss: 0.3622\n",
            "Epoch 10/100\n",
            "363/363 [==============================] - 1s 3ms/step - loss: 0.3410 - val_loss: 0.3571\n",
            "Epoch 11/100\n",
            "363/363 [==============================] - 1s 3ms/step - loss: 0.3385 - val_loss: 0.3671\n",
            "Epoch 12/100\n",
            "363/363 [==============================] - 1s 3ms/step - loss: 0.3373 - val_loss: 0.3536\n",
            "Epoch 13/100\n",
            "363/363 [==============================] - 1s 3ms/step - loss: 0.3349 - val_loss: 0.3510\n",
            "Epoch 14/100\n",
            "363/363 [==============================] - 1s 3ms/step - loss: 0.3332 - val_loss: 0.3481\n",
            "Epoch 15/100\n",
            "363/363 [==============================] - 2s 5ms/step - loss: 0.3319 - val_loss: 0.3494\n",
            "Epoch 16/100\n",
            "363/363 [==============================] - 2s 4ms/step - loss: 0.3318 - val_loss: 0.3481\n",
            "Epoch 17/100\n",
            "363/363 [==============================] - 1s 3ms/step - loss: 0.3313 - val_loss: 0.3501\n",
            "Epoch 18/100\n",
            "363/363 [==============================] - 1s 3ms/step - loss: 0.3296 - val_loss: 0.3456\n",
            "Epoch 19/100\n",
            "363/363 [==============================] - 1s 4ms/step - loss: 0.3292 - val_loss: 0.3495\n",
            "Epoch 20/100\n",
            "363/363 [==============================] - 1s 3ms/step - loss: 0.3274 - val_loss: 0.3473\n",
            "Epoch 21/100\n",
            "363/363 [==============================] - 1s 3ms/step - loss: 0.3277 - val_loss: 0.3417\n",
            "Epoch 22/100\n",
            "363/363 [==============================] - 1s 3ms/step - loss: 0.3259 - val_loss: 0.3419\n",
            "Epoch 23/100\n",
            "363/363 [==============================] - 1s 3ms/step - loss: 0.3251 - val_loss: 0.3405\n",
            "Epoch 24/100\n",
            "363/363 [==============================] - 1s 3ms/step - loss: 0.3253 - val_loss: 0.3401\n",
            "Epoch 25/100\n",
            "363/363 [==============================] - 2s 5ms/step - loss: 0.3232 - val_loss: 0.3436\n",
            "Epoch 26/100\n",
            "363/363 [==============================] - 1s 4ms/step - loss: 0.3243 - val_loss: 0.3427\n",
            "Epoch 27/100\n",
            "363/363 [==============================] - 1s 3ms/step - loss: 0.3230 - val_loss: 0.3485\n",
            "Epoch 28/100\n",
            "363/363 [==============================] - 1s 3ms/step - loss: 0.3232 - val_loss: 0.3422\n",
            "Epoch 29/100\n",
            "363/363 [==============================] - 1s 3ms/step - loss: 0.3212 - val_loss: 0.3446\n",
            "Epoch 30/100\n",
            "363/363 [==============================] - 1s 3ms/step - loss: 0.3220 - val_loss: 0.3427\n",
            "Epoch 31/100\n",
            "363/363 [==============================] - 1s 3ms/step - loss: 0.3215 - val_loss: 0.3343\n",
            "Epoch 32/100\n",
            "363/363 [==============================] - 1s 3ms/step - loss: 0.3203 - val_loss: 0.3375\n",
            "Epoch 33/100\n",
            "363/363 [==============================] - 1s 3ms/step - loss: 0.3194 - val_loss: 0.3351\n",
            "Epoch 34/100\n",
            "363/363 [==============================] - 1s 4ms/step - loss: 0.3195 - val_loss: 0.3524\n",
            "Epoch 35/100\n",
            "363/363 [==============================] - 2s 5ms/step - loss: 0.3194 - val_loss: 0.3342\n",
            "Epoch 36/100\n",
            "363/363 [==============================] - 1s 4ms/step - loss: 0.3197 - val_loss: 0.3322\n",
            "Epoch 37/100\n",
            "363/363 [==============================] - 1s 3ms/step - loss: 0.3172 - val_loss: 0.3312\n",
            "Epoch 38/100\n",
            "363/363 [==============================] - 1s 3ms/step - loss: 0.3177 - val_loss: 0.3389\n",
            "Epoch 39/100\n",
            "363/363 [==============================] - 1s 3ms/step - loss: 0.3169 - val_loss: 0.3347\n",
            "Epoch 40/100\n",
            "363/363 [==============================] - 1s 3ms/step - loss: 0.3172 - val_loss: 0.3358\n",
            "Epoch 41/100\n",
            "363/363 [==============================] - 1s 3ms/step - loss: 0.3170 - val_loss: 0.3298\n",
            "Epoch 42/100\n",
            "363/363 [==============================] - 1s 3ms/step - loss: 0.3149 - val_loss: 0.3301\n",
            "Epoch 43/100\n",
            "363/363 [==============================] - 1s 4ms/step - loss: 0.3149 - val_loss: 0.3278\n",
            "Epoch 44/100\n",
            "363/363 [==============================] - 2s 4ms/step - loss: 0.3148 - val_loss: 0.3284\n",
            "Epoch 45/100\n",
            "363/363 [==============================] - 1s 4ms/step - loss: 0.3151 - val_loss: 0.3304\n",
            "Epoch 46/100\n",
            "363/363 [==============================] - 1s 3ms/step - loss: 0.3158 - val_loss: 0.3274\n",
            "Epoch 47/100\n",
            "363/363 [==============================] - 1s 3ms/step - loss: 0.3130 - val_loss: 0.3372\n",
            "Epoch 48/100\n",
            "363/363 [==============================] - 2s 5ms/step - loss: 0.3138 - val_loss: 0.3243\n",
            "Epoch 49/100\n",
            "363/363 [==============================] - 1s 3ms/step - loss: 0.3123 - val_loss: 0.3287\n",
            "Epoch 50/100\n",
            "363/363 [==============================] - 1s 3ms/step - loss: 0.3122 - val_loss: 0.3392\n",
            "Epoch 51/100\n",
            "363/363 [==============================] - 1s 3ms/step - loss: 0.3132 - val_loss: 0.3269\n",
            "Epoch 52/100\n",
            "363/363 [==============================] - 1s 3ms/step - loss: 0.3122 - val_loss: 0.3303\n",
            "Epoch 53/100\n",
            "363/363 [==============================] - 1s 4ms/step - loss: 0.3125 - val_loss: 0.3249\n",
            "Epoch 54/100\n",
            "363/363 [==============================] - 2s 5ms/step - loss: 0.3107 - val_loss: 0.3261\n",
            "Epoch 55/100\n",
            "363/363 [==============================] - 1s 3ms/step - loss: 0.3111 - val_loss: 0.3239\n",
            "Epoch 56/100\n",
            "363/363 [==============================] - 1s 3ms/step - loss: 0.3114 - val_loss: 0.3269\n",
            "Epoch 57/100\n",
            "363/363 [==============================] - 2s 5ms/step - loss: 0.3127 - val_loss: 0.3296\n",
            "Epoch 58/100\n",
            "363/363 [==============================] - 2s 5ms/step - loss: 0.3115 - val_loss: 0.3242\n",
            "Epoch 59/100\n",
            "363/363 [==============================] - 1s 3ms/step - loss: 0.3093 - val_loss: 0.3316\n",
            "Epoch 60/100\n",
            "363/363 [==============================] - 1s 3ms/step - loss: 0.3100 - val_loss: 0.3237\n",
            "Epoch 61/100\n",
            "363/363 [==============================] - 1s 3ms/step - loss: 0.3104 - val_loss: 0.3312\n",
            "Epoch 62/100\n",
            "363/363 [==============================] - 1s 4ms/step - loss: 0.3121 - val_loss: 0.3275\n",
            "Epoch 63/100\n",
            "363/363 [==============================] - 2s 4ms/step - loss: 0.3103 - val_loss: 0.3298\n",
            "Epoch 64/100\n",
            "363/363 [==============================] - 1s 3ms/step - loss: 0.3081 - val_loss: 0.3214\n",
            "Epoch 65/100\n",
            "363/363 [==============================] - 1s 4ms/step - loss: 0.3083 - val_loss: 0.3232\n",
            "Epoch 66/100\n",
            "363/363 [==============================] - 1s 3ms/step - loss: 0.3081 - val_loss: 0.3265\n",
            "Epoch 67/100\n",
            "363/363 [==============================] - 2s 4ms/step - loss: 0.3084 - val_loss: 0.3216\n",
            "Epoch 68/100\n",
            "363/363 [==============================] - 1s 4ms/step - loss: 0.3073 - val_loss: 0.3224\n",
            "Epoch 69/100\n",
            "363/363 [==============================] - 1s 3ms/step - loss: 0.3070 - val_loss: 0.3225\n",
            "Epoch 70/100\n",
            "363/363 [==============================] - 1s 3ms/step - loss: 0.3072 - val_loss: 0.3216\n",
            "Epoch 71/100\n",
            "363/363 [==============================] - 1s 4ms/step - loss: 0.3067 - val_loss: 0.3206\n",
            "Epoch 72/100\n",
            "363/363 [==============================] - 2s 5ms/step - loss: 0.3067 - val_loss: 0.3373\n",
            "Epoch 73/100\n",
            "363/363 [==============================] - 1s 3ms/step - loss: 0.3068 - val_loss: 0.3233\n",
            "Epoch 74/100\n",
            "363/363 [==============================] - 1s 3ms/step - loss: 0.3053 - val_loss: 0.3239\n",
            "Epoch 75/100\n",
            "363/363 [==============================] - 1s 3ms/step - loss: 0.3063 - val_loss: 0.3180\n",
            "Epoch 76/100\n",
            "363/363 [==============================] - 1s 3ms/step - loss: 0.3060 - val_loss: 0.3209\n",
            "Epoch 77/100\n",
            "363/363 [==============================] - 1s 3ms/step - loss: 0.3053 - val_loss: 0.3198\n",
            "Epoch 78/100\n",
            "363/363 [==============================] - 1s 4ms/step - loss: 0.3050 - val_loss: 0.3195\n",
            "Epoch 79/100\n",
            "363/363 [==============================] - 1s 3ms/step - loss: 0.3049 - val_loss: 0.3233\n",
            "Epoch 80/100\n",
            "363/363 [==============================] - 1s 3ms/step - loss: 0.3052 - val_loss: 0.3176\n",
            "Epoch 81/100\n",
            "363/363 [==============================] - 2s 5ms/step - loss: 0.3050 - val_loss: 0.3211\n",
            "Epoch 82/100\n",
            "363/363 [==============================] - 1s 4ms/step - loss: 0.3052 - val_loss: 0.3301\n",
            "Epoch 83/100\n",
            "363/363 [==============================] - 1s 3ms/step - loss: 0.3043 - val_loss: 0.3180\n",
            "Epoch 84/100\n",
            "363/363 [==============================] - 1s 4ms/step - loss: 0.3031 - val_loss: 0.3159\n",
            "Epoch 85/100\n",
            "363/363 [==============================] - 1s 3ms/step - loss: 0.3047 - val_loss: 0.3158\n",
            "Epoch 86/100\n",
            "363/363 [==============================] - 1s 3ms/step - loss: 0.3048 - val_loss: 0.3200\n",
            "Epoch 87/100\n",
            "363/363 [==============================] - 1s 3ms/step - loss: 0.3034 - val_loss: 0.3173\n",
            "Epoch 88/100\n",
            "363/363 [==============================] - 1s 3ms/step - loss: 0.3028 - val_loss: 0.3276\n",
            "Epoch 89/100\n",
            "363/363 [==============================] - 1s 3ms/step - loss: 0.3025 - val_loss: 0.3196\n",
            "Epoch 90/100\n",
            "363/363 [==============================] - 1s 4ms/step - loss: 0.3031 - val_loss: 0.3296\n",
            "Epoch 91/100\n",
            "363/363 [==============================] - 2s 5ms/step - loss: 0.3031 - val_loss: 0.3167\n",
            "Epoch 92/100\n",
            "363/363 [==============================] - 1s 3ms/step - loss: 0.3034 - val_loss: 0.3145\n",
            "Epoch 93/100\n",
            "363/363 [==============================] - 1s 3ms/step - loss: 0.3022 - val_loss: 0.3276\n",
            "Epoch 94/100\n",
            "363/363 [==============================] - 1s 3ms/step - loss: 0.3046 - val_loss: 0.3207\n",
            "Epoch 95/100\n",
            "363/363 [==============================] - 1s 3ms/step - loss: 0.3024 - val_loss: 0.3180\n",
            "Epoch 96/100\n",
            "363/363 [==============================] - 1s 3ms/step - loss: 0.3028 - val_loss: 0.3194\n",
            "Epoch 97/100\n",
            "363/363 [==============================] - 1s 3ms/step - loss: 0.3020 - val_loss: 0.3136\n",
            "Epoch 98/100\n",
            "363/363 [==============================] - 1s 4ms/step - loss: 0.3017 - val_loss: 0.3136\n",
            "Epoch 99/100\n",
            "363/363 [==============================] - 1s 3ms/step - loss: 0.3029 - val_loss: 0.3171\n",
            "Epoch 100/100\n",
            "363/363 [==============================] - 1s 4ms/step - loss: 0.3032 - val_loss: 0.3199\n"
          ]
        }
      ]
    },
    {
      "cell_type": "code",
      "source": [
        "mse_test = model.evaluate(X_test, y_test)"
      ],
      "metadata": {
        "colab": {
          "base_uri": "https://localhost:8080/"
        },
        "id": "vHr9aCx7d-Cb",
        "outputId": "00112453-4d4b-4beb-cb14-7b568f7edc43"
      },
      "execution_count": 31,
      "outputs": [
        {
          "output_type": "stream",
          "name": "stdout",
          "text": [
            "162/162 [==============================] - 0s 2ms/step - loss: 0.3572\n"
          ]
        }
      ]
    },
    {
      "cell_type": "code",
      "source": [
        "mse_test"
      ],
      "metadata": {
        "colab": {
          "base_uri": "https://localhost:8080/"
        },
        "id": "naNEpcbKfkkQ",
        "outputId": "675698d5-b457-4849-ba02-efc00a4f14d8"
      },
      "execution_count": 32,
      "outputs": [
        {
          "output_type": "execute_result",
          "data": {
            "text/plain": [
              "0.357193261384964"
            ]
          },
          "metadata": {},
          "execution_count": 32
        }
      ]
    },
    {
      "cell_type": "code",
      "source": [
        "X_new=X_test[:3]\n",
        "y_pred = model.predict(X_new)"
      ],
      "metadata": {
        "colab": {
          "base_uri": "https://localhost:8080/"
        },
        "id": "qZHTUjOpegDq",
        "outputId": "5d407f80-4c87-4e71-ec25-90c9587f9db5"
      },
      "execution_count": 33,
      "outputs": [
        {
          "output_type": "stream",
          "name": "stdout",
          "text": [
            "1/1 [==============================] - 0s 41ms/step\n"
          ]
        }
      ]
    },
    {
      "cell_type": "code",
      "source": [
        "y_pred"
      ],
      "metadata": {
        "colab": {
          "base_uri": "https://localhost:8080/"
        },
        "id": "NQQYaBPJe5yM",
        "outputId": "827ab860-fc7a-4952-fd2d-a7e6363cc1f0"
      },
      "execution_count": 34,
      "outputs": [
        {
          "output_type": "execute_result",
          "data": {
            "text/plain": [
              "array([[1.6681243],\n",
              "       [1.2151215],\n",
              "       [2.9660177]], dtype=float32)"
            ]
          },
          "metadata": {},
          "execution_count": 34
        }
      ]
    },
    {
      "cell_type": "code",
      "source": [
        "y_new = y_test[:3]"
      ],
      "metadata": {
        "id": "_Mdcq5D7fWtB"
      },
      "execution_count": 35,
      "outputs": []
    },
    {
      "cell_type": "code",
      "source": [
        "y_new"
      ],
      "metadata": {
        "colab": {
          "base_uri": "https://localhost:8080/"
        },
        "id": "D9pQs0s5fXs4",
        "outputId": "f2d61c31-3860-4350-a480-39e890d58a98"
      },
      "execution_count": 36,
      "outputs": [
        {
          "output_type": "execute_result",
          "data": {
            "text/plain": [
              "array([1.465, 0.92 , 2.247])"
            ]
          },
          "metadata": {},
          "execution_count": 36
        }
      ]
    },
    {
      "cell_type": "code",
      "source": [
        "import matplotlib.pyplot as plt\n",
        "import pandas as pd\n",
        "\n",
        "pd.DataFrame(history.history).plot(figsize=(8, 5))\n",
        "plt.grid(True)\n",
        "plt.gca().set_ylim(0, 1) # set the vertical range to [0-1]\n",
        "plt.show()"
      ],
      "metadata": {
        "colab": {
          "base_uri": "https://localhost:8080/",
          "height": 451
        },
        "id": "UfHWcXKJfaLU",
        "outputId": "ee7e823f-67f0-4537-ccdb-f43f8c50c357"
      },
      "execution_count": 37,
      "outputs": [
        {
          "output_type": "display_data",
          "data": {
            "text/plain": [
              "<Figure size 800x500 with 1 Axes>"
            ],
            "image/png": "[encoded data removed]"
          },
          "metadata": {}
        }
      ]
    },
    {
      "cell_type": "code",
      "source": [
        "print(y_test)"
      ],
      "metadata": {
        "colab": {
          "base_uri": "https://localhost:8080/"
        },
        "id": "TmXxdTW2rsH9",
        "outputId": "aa6e4d01-e8af-4859-e5f2-f813112e31a8"
      },
      "execution_count": 38,
      "outputs": [
        {
          "output_type": "stream",
          "name": "stdout",
          "text": [
            "[1.465 0.92  2.247 ... 1.214 4.116 1.353]\n"
          ]
        }
      ]
    },
    {
      "cell_type": "code",
      "source": [
        "#AutoKerasimport tensorflow as tf\n",
        "import tensorflow as tf\n",
        "from tensorflow import keras\n",
        "mnist = keras.datasets.mnist\n",
        "(x_train, y_train), (x_test, y_test) = mnist.load_data()"
      ],
      "metadata": {
        "colab": {
          "base_uri": "https://localhost:8080/"
        },
        "id": "ef5gwP48g6tD",
        "outputId": "700aebf7-04ee-48e7-a256-4b994c97a82f"
      },
      "execution_count": 53,
      "outputs": [
        {
          "output_type": "stream",
          "name": "stdout",
          "text": [
            "Downloading data from https://storage.googleapis.com/tensorflow/tf-keras-datasets/mnist.npz\n",
            "11490434/11490434 [==============================] - 0s 0us/step\n"
          ]
        }
      ]
    },
    {
      "cell_type": "code",
      "source": [
        "!pip install autokeras"
      ],
      "metadata": {
        "id": "Bl0gvINaim2Y"
      },
      "execution_count": null,
      "outputs": []
    },
    {
      "cell_type": "code",
      "source": [
        "import autokeras as ak\n",
        "clf = ak.ImageClassifier(max_trials=2)\n",
        "clf.fit(x_train, y_train, epochs=3)"
      ],
      "metadata": {
        "colab": {
          "base_uri": "https://localhost:8080/"
        },
        "id": "4PovR35IjGPT",
        "outputId": "ba841f4a-969c-4656-f178-e9f53fad7d36"
      },
      "execution_count": 55,
      "outputs": [
        {
          "output_type": "stream",
          "name": "stdout",
          "text": [
            "Trial 2 Complete [00h 26m 58s]\n",
            "val_loss: 0.23473124206066132\n",
            "\n",
            "Best val_loss So Far: 0.04880864545702934\n",
            "Total elapsed time: 00h 27m 38s\n",
            "Epoch 1/3\n",
            "1875/1875 [==============================] - 10s 5ms/step - loss: 0.1570 - accuracy: 0.9522\n",
            "Epoch 2/3\n",
            "1875/1875 [==============================] - 9s 5ms/step - loss: 0.0725 - accuracy: 0.9772\n",
            "Epoch 3/3\n",
            "1875/1875 [==============================] - 10s 5ms/step - loss: 0.0586 - accuracy: 0.9815\n"
          ]
        },
        {
          "output_type": "stream",
          "name": "stderr",
          "text": [
            "WARNING:absl:Found untraced functions such as _jit_compiled_convolution_op, _jit_compiled_convolution_op while saving (showing 2 of 2). These functions will not be directly callable after loading.\n"
          ]
        },
        {
          "output_type": "execute_result",
          "data": {
            "text/plain": [
              "<keras.callbacks.History at 0x7f4fb17d4d00>"
            ]
          },
          "metadata": {},
          "execution_count": 55
        }
      ]
    },
    {
      "cell_type": "code",
      "source": [
        "test_loss, test_acc = clf.evaluate(x_test, y_test)"
      ],
      "metadata": {
        "colab": {
          "base_uri": "https://localhost:8080/"
        },
        "id": "VM54maFuqExz",
        "outputId": "8dfba717-dbdf-4268-985b-d83d0483d648"
      },
      "execution_count": 56,
      "outputs": [
        {
          "output_type": "stream",
          "name": "stdout",
          "text": [
            "313/313 [==============================] - 1s 3ms/step - loss: 0.0387 - accuracy: 0.9864\n"
          ]
        }
      ]
    },
    {
      "cell_type": "code",
      "source": [
        "predicted_y = clf.predict(x_test)\n",
        "print(predicted_y)"
      ],
      "metadata": {
        "colab": {
          "base_uri": "https://localhost:8080/"
        },
        "id": "s9jEB8Pnqdii",
        "outputId": "055a9ceb-cfd8-4c0a-ed45-39bd043b2a1e"
      },
      "execution_count": 58,
      "outputs": [
        {
          "output_type": "stream",
          "name": "stdout",
          "text": [
            "313/313 [==============================] - 1s 2ms/step\n",
            "313/313 [==============================] - 1s 2ms/step\n",
            "[['7']\n",
            " ['2']\n",
            " ['1']\n",
            " ...\n",
            " ['4']\n",
            " ['5']\n",
            " ['6']]\n"
          ]
        }
      ]
    },
    {
      "cell_type": "code",
      "source": [
        "best_model = clf.export_model()\n",
        "best_model.summary()"
      ],
      "metadata": {
        "colab": {
          "base_uri": "https://localhost:8080/"
        },
        "id": "69Dm1tsmsJ8W",
        "outputId": "78c0ccea-5ccf-40c9-fffc-10651bb06ba4"
      },
      "execution_count": 59,
      "outputs": [
        {
          "output_type": "stream",
          "name": "stdout",
          "text": [
            "Model: \"model\"\n",
            "_________________________________________________________________\n",
            " Layer (type)                Output Shape              Param #   \n",
            "=================================================================\n",
            " input_1 (InputLayer)        [(None, 28, 28)]          0         \n",
            "                                                                 \n",
            " cast_to_float32 (CastToFloa  (None, 28, 28)           0         \n",
            " t32)                                                            \n",
            "                                                                 \n",
            " expand_last_dim (ExpandLast  (None, 28, 28, 1)        0         \n",
            " Dim)                                                            \n",
            "                                                                 \n",
            " normalization (Normalizatio  (None, 28, 28, 1)        3         \n",
            " n)                                                              \n",
            "                                                                 \n",
            " conv2d (Conv2D)             (None, 26, 26, 32)        320       \n",
            "                                                                 \n",
            " conv2d_1 (Conv2D)           (None, 24, 24, 64)        18496     \n",
            "                                                                 \n",
            " max_pooling2d (MaxPooling2D  (None, 12, 12, 64)       0         \n",
            " )                                                               \n",
            "                                                                 \n",
            " dropout (Dropout)           (None, 12, 12, 64)        0         \n",
            "                                                                 \n",
            " flatten (Flatten)           (None, 9216)              0         \n",
            "                                                                 \n",
            " dropout_1 (Dropout)         (None, 9216)              0         \n",
            "                                                                 \n",
            " dense (Dense)               (None, 10)                92170     \n",
            "                                                                 \n",
            " classification_head_1 (Soft  (None, 10)               0         \n",
            " max)                                                            \n",
            "                                                                 \n",
            "=================================================================\n",
            "Total params: 110,989\n",
            "Trainable params: 110,986\n",
            "Non-trainable params: 3\n",
            "_________________________________________________________________\n"
          ]
        }
      ]
    },
    {
      "cell_type": "code",
      "source": [
        "from keras.models import load_model\n",
        "best_model.save('model_autokeras')\n",
        "loaded_model = load_model('model_autokeras')"
      ],
      "metadata": {
        "colab": {
          "base_uri": "https://localhost:8080/"
        },
        "id": "RXoHaLCisWkO",
        "outputId": "4c1db006-1852-465e-a98b-26e169f2829d"
      },
      "execution_count": 60,
      "outputs": [
        {
          "output_type": "stream",
          "name": "stderr",
          "text": [
            "WARNING:absl:Found untraced functions such as _jit_compiled_convolution_op, _jit_compiled_convolution_op, _update_step_xla while saving (showing 3 of 3). These functions will not be directly callable after loading.\n"
          ]
        }
      ]
    },
    {
      "cell_type": "code",
      "source": [
        "predicted_y = loaded_model.predict(x_test)\n",
        "print(predicted_y)"
      ],
      "metadata": {
        "colab": {
          "base_uri": "https://localhost:8080/"
        },
        "id": "VjjlKqyls-9V",
        "outputId": "b41d3be1-92c5-4907-fcb4-b7adc068f20a"
      },
      "execution_count": 64,
      "outputs": [
        {
          "output_type": "stream",
          "name": "stdout",
          "text": [
            "313/313 [==============================] - 1s 2ms/step\n",
            "[[1.9186785e-09 1.9857536e-11 5.9265876e-08 ... 9.9999940e-01\n",
            "  1.0446010e-09 3.0615840e-07]\n",
            " [1.1597050e-06 1.9461527e-06 9.9997437e-01 ... 1.8753652e-13\n",
            "  2.0423747e-06 1.8092906e-11]\n",
            " [8.1879797e-08 9.9974507e-01 1.6640659e-05 ... 1.5665928e-05\n",
            "  8.6572672e-06 1.6978434e-07]\n",
            " ...\n",
            " [3.9845276e-12 6.2258426e-10 1.1390942e-11 ... 1.0561076e-07\n",
            "  1.8761220e-06 3.8797467e-07]\n",
            " [3.1409176e-08 4.3713579e-12 8.1706747e-10 ... 9.4483976e-11\n",
            "  1.0006874e-05 9.3889811e-09]\n",
            " [1.1678912e-07 1.0165173e-12 7.2273544e-08 ... 1.2927905e-13\n",
            "  2.2297813e-07 1.4762128e-10]]\n"
          ]
        }
      ]
    }
  ]
}